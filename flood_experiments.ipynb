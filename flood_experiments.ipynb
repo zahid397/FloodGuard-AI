# 🌊 FloodGuard-AI Experiments Notebook
# Author: Zahid Hasan
# Purpose: Train, Test & Analyze Flood Prediction Model

# ============================
# 📦 Step 1: Import Libraries
# ============================
import pandas as pd
import numpy as np
import matplotlib.pyplot as plt
import seaborn as sns
from sklearn.model_selection import train_test_split
from sklearn.ensemble import RandomForestClassifier
from sklearn.metrics import classification_report, confusion_matrix, accuracy_score
import joblib
import os

# ============================
# 📂 Step 2: Load Dataset
# ============================
data_path = "data/flood_data.csv"

if not os.path.exists(data_path):
    raise FileNotFoundError("❌ flood_data.csv not found. Please add it under data/ folder.")

df = pd.read_csv(data_path)
print("✅ Dataset loaded successfully!")
display(df.head())

# ============================
# 🔍 Step 3: Basic EDA
# ============================
print("\n🔹 Dataset Info:")
print(df.info())

print("\n🔹 Missing Values:")
print(df.isnull().sum())

# Correlation Heatmap
plt.figure(figsize=(8,6))
sns.heatmap(df.corr(), annot=True, cmap="coolwarm")
plt.title("Correlation Heatmap of Flood Data")
plt.show()

# ============================
# ⚙️ Step 4: Prepare Data
# ============================
features = ["MonsoonIntensity", "Topography", "Drainage", "SoilType", "Urbanization"]
target = "FloodRisk"

X = df[features]
y = df[target]

X_train, X_test, y_train, y_test = train_test_split(
    X, y, test_size=0.2, random_state=42
)

print(f"✅ Data Split Completed: {X_train.shape[0]} train rows, {X_test.shape[0]} test rows")

# ============================
# 🧠 Step 5: Train Model
# ============================
model = RandomForestClassifier(
    n_estimators=200,
    max_depth=None,
    random_state=42,
    n_jobs=-1
)

model.fit(X_train, y_train)
print("✅ Model trained successfully!")

# ============================
# 📊 Step 6: Evaluate Model
# ============================
y_pred = model.predict(X_test)

acc = accuracy_score(y_test, y_pred)
print(f"📈 Model Accuracy: {acc:.2%}")

print("\n🔹 Classification Report:")
print(classification_report(y_test, y_pred))

# Confusion Matrix
cm = confusion_matrix(y_test, y_pred)
sns.heatmap(cm, annot=True, fmt="d", cmap="Greens")
plt.title("Confusion Matrix")
plt.xlabel("Predicted")
plt.ylabel("Actual")
plt.show()

# ============================
# 💾 Step 7: Save Model
# ============================
os.makedirs("model", exist_ok=True)
model_path = "model/flood_model.pkl"
joblib.dump(model, model_path)
print(f"💾 Model saved successfully at {model_path}")

# ============================
# 🔮 Step 8: Make Prediction
# ============================
sample_input = pd.DataFrame([[250, 5, 7, 3, 80]], columns=features)
sample_pred = model.predict(sample_input)[0]
print("\n🌊 Prediction for sample input:", "Flood Risk" if sample_pred == 1 else "No Risk")

print("\n✅ All experiments completed successfully!")
